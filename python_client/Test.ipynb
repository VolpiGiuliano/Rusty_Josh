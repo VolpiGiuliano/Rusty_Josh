{
 "cells": [
  {
   "cell_type": "markdown",
   "id": "cf5720b5",
   "metadata": {},
   "source": [
    "# Market Data"
   ]
  },
  {
   "cell_type": "code",
   "execution_count": 35,
   "id": "2203b5b0",
   "metadata": {},
   "outputs": [],
   "source": [
    "import requests"
   ]
  },
  {
   "cell_type": "code",
   "execution_count": null,
   "id": "b9cf7e21",
   "metadata": {},
   "outputs": [],
   "source": [
    "response=requests.get(\"http://127.0.0.1:8080/data\")\n",
    "data=response.json()\n",
    "data"
   ]
  },
  {
   "cell_type": "code",
   "execution_count": 12,
   "id": "20c180cc",
   "metadata": {},
   "outputs": [
    {
     "data": {
      "text/plain": [
       "{'ask_p': 7, 'bid_p': 5, 'ask_s': 11, 'bid_s': 8, 'state': 0}"
      ]
     },
     "execution_count": 12,
     "metadata": {},
     "output_type": "execute_result"
    }
   ],
   "source": [
    "data[\"top_book\"]"
   ]
  },
  {
   "cell_type": "markdown",
   "id": "0d2d8e57",
   "metadata": {},
   "source": [
    "# Order"
   ]
  },
  {
   "cell_type": "code",
   "execution_count": 1,
   "id": "f3c942ab",
   "metadata": {},
   "outputs": [],
   "source": [
    "import requests"
   ]
  },
  {
   "cell_type": "code",
   "execution_count": null,
   "id": "fa8ed329",
   "metadata": {},
   "outputs": [
    {
     "data": {
      "text/plain": [
       "b'Order processed'"
      ]
     },
     "execution_count": 32,
     "metadata": {},
     "output_type": "execute_result"
    }
   ],
   "source": [
    "headers = {\n",
    "    \"Content-Type\": \"application/json\"\n",
    "}\n",
    "data = {\n",
    "    \"id\": 88,\n",
    "    \"price\": 2,\n",
    "    \"size\": 10,\n",
    "    \"side\": True,\n",
    "    \"o_type\": 1\n",
    "}\n",
    "response = requests.post('http://127.0.0.1:8080/submit',json=data,headers=headers)\n",
    "response.content"
   ]
  },
  {
   "cell_type": "code",
   "execution_count": 2,
   "id": "750e5d27",
   "metadata": {},
   "outputs": [],
   "source": [
    "data = {\n",
    "    \"id\": 88,\n",
    "    \"price\": 2,\n",
    "    \"size\": 10,\n",
    "    \"side\": True,\n",
    "    \"o_type\": 1\n",
    "}"
   ]
  },
  {
   "cell_type": "code",
   "execution_count": null,
   "id": "0a61b17b",
   "metadata": {},
   "outputs": [],
   "source": [
    "def send_order(data:dict):\n",
    "    headers = {\n",
    "    \"Content-Type\": \"application/json\"\n",
    "    }\n",
    "    response= requests.post('http://127.0.0.1:8080/submit', json=data,headers=headers)\n",
    "    print(response)\n",
    "    # print(response.status_code)\n",
    "    print(response.content)"
   ]
  },
  {
   "cell_type": "code",
   "execution_count": 10,
   "id": "2942d13c",
   "metadata": {},
   "outputs": [
    {
     "name": "stdout",
     "output_type": "stream",
     "text": [
      "<Response [200]>\n",
      "200\n",
      "b'Order processed'\n"
     ]
    }
   ],
   "source": [
    "send_order(data)"
   ]
  }
 ],
 "metadata": {
  "kernelspec": {
   "display_name": "Python 3",
   "language": "python",
   "name": "python3"
  },
  "language_info": {
   "codemirror_mode": {
    "name": "ipython",
    "version": 3
   },
   "file_extension": ".py",
   "mimetype": "text/x-python",
   "name": "python",
   "nbconvert_exporter": "python",
   "pygments_lexer": "ipython3",
   "version": "3.13.3"
  }
 },
 "nbformat": 4,
 "nbformat_minor": 5
}
